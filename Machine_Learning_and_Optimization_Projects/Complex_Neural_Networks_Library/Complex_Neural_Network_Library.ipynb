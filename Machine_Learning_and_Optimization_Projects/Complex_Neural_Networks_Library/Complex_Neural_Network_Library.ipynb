{
 "cells": [
  {
   "cell_type": "code",
   "execution_count": 5,
   "metadata": {},
   "outputs": [],
   "source": [
    "import numpy as np\n",
    "import matplotlib.pyplot as plt\n",
    "import Adaptive_Two_Mode_Optimizer"
   ]
  },
  {
   "cell_type": "code",
   "execution_count": 28,
   "metadata": {},
   "outputs": [
    {
     "name": "stdout",
     "output_type": "stream",
     "text": [
      "The functions in this library are:\n",
      "------------------------------------\n",
      "\n",
      "BeLU(x)\n",
      "Tanh(x)\n",
      "Sigmoid(x)\n",
      "RelU(x)\n",
      "Leaky_Relu(x,alpha)\n",
      "Complex_BeLU(x)\n",
      "Complex_Tanh(x)\n",
      "Complex_Sigmoid(x)\n",
      "Complex_RelU(x)\n",
      "Complex_Leaky_Relu(x,alpha)\n",
      "Reshape_into_5_layer_net(Parameter_Vector,Number_Of_Nurons_in_5_layer_net)\n",
      "Run_Through_5_layer_Net(Net,X)\n",
      "Count_Total_Parameters_In_Net(Number_Of_Nurons_in_5_layer_net )\n",
      "Count_Total_Parameters_In_Complex_Net(Number_Of_Nurons_in_5_layer_net )\n",
      "Best_Parameters_After_Optimization = Adaptive_Two_Mode_Optimizer.optimize(Cost_Function, Parameter_Vector, remaining_evals )\n",
      "\n",
      "------------------------------------\n",
      "And that's about it\n",
      "\n",
      "0.12662301511061663\n"
     ]
    }
   ],
   "source": [
    "def Print_List_Of_Functions():\n",
    "    print(\"The functions in this library are:\")\n",
    "    print(\"------------------------------------\")\n",
    "    print(\"\")\n",
    "    print(\"BeLU(x)\")\n",
    "    print(\"Tanh(x)\")\n",
    "    print(\"Sigmoid(x)\")\n",
    "    print(\"RelU(x)\")\n",
    "    print(\"Leaky_Relu(x,alpha)\")  \n",
    "    print(\"Complex_BeLU(x)\")\n",
    "    print(\"Complex_Tanh(x)\")\n",
    "    print(\"Complex_Sigmoid(x)\")\n",
    "    print(\"Complex_RelU(x)\")\n",
    "    print(\"Complex_Leaky_Relu(x,alpha)\") \n",
    "    print(\"Reshape_into_5_layer_net(Parameter_Vector,Number_Of_Nurons_in_5_layer_net)\") ## This should be a generice function\n",
    "    print(\"Run_Through_5_layer_Net(Net,X)\")\n",
    "    print(\"Count_Total_Parameters_In_Net(Number_Of_Nurons_in_5_layer_net )\")\n",
    "    print(\"Count_Total_Parameters_In_Complex_Net(Number_Of_Nurons_in_5_layer_net )\")\n",
    "    print(\"Best_Parameters_After_Optimization = Adaptive_Two_Mode_Optimizer.optimize(Cost_Function, Parameter_Vector, remaining_evals )\")\n",
    "    print(\"\")\n",
    "    print(\"------------------------------------\")\n",
    "    print(\"And that's about it\")\n",
    "    print(\"\")\n",
    "Print_List_Of_Functions()\n",
    "\n",
    "\n",
    "\n",
    "\n",
    "def BeLU(x): ## \"BeLU\" = Bent Linear Unit, \n",
    "    return x - np.exp(-x**2)*np.sin(x)\n",
    "\n",
    "def Complex_BeLU(x):\n",
    "    return x.real - np.exp(-x.real**2)*np.sin(x.real) + 1j*(x.imag - np.exp(-x.imag**2)*np.sin(x.imag))\n",
    "\n",
    "\n",
    "\n",
    "def Tanh(x):\n",
    "    return np.tanh(x)\n",
    "\n",
    "def Sigmoid(x):\n",
    "    return 1/(1 + np.exp(-x))\n",
    "\n",
    "def RelU(x):\n",
    "    return np.maximum(x,0)\n",
    "\n",
    "def Leaky_Relu(x,alpha):\n",
    "    return np.maximum(x,0) + alpha*np.minimum(x,0)\n",
    "\n",
    "\n",
    "def Complex_Tanh(x):\n",
    "    return np.tanh(x.real) + 1j*np.tanh(x.imag)\n",
    "\n",
    "def Complex_Sigmoid(x):\n",
    "    return 1/(1 + np.exp(-x.real)) + 1j/(1 + np.exp(-x.imag))\n",
    "\n",
    "def Complex_RelU(x):\n",
    "    return np.maximum(x.real,0) + 1j*np.maximum(x.imag,0)\n",
    "\n",
    "def Complex_Leaky_Relu(x,alpha):\n",
    "    return np.maximum(x.real,0) + 0.1*np.minimum(x.real,0) + 1j*(np.maximum(x.imag,0) + 0.1*np.minimum(x.imag,0))\n",
    "\n",
    "    \n",
    "x = 0.5\n",
    "print(BeLU(x))"
   ]
  },
  {
   "cell_type": "code",
   "execution_count": 7,
   "metadata": {},
   "outputs": [
    {
     "data": {
      "text/plain": [
       "<matplotlib.text.Text at 0x21856e8cc18>"
      ]
     },
     "execution_count": 7,
     "metadata": {},
     "output_type": "execute_result"
    },
    {
     "data": {
      "image/png": "[encoded data removed]",
      "text/plain": [
       "<matplotlib.figure.Figure at 0x21854e391d0>"
      ]
     },
     "metadata": {},
     "output_type": "display_data"
    }
   ],
   "source": [
    "x = np.linspace(-0.7,0.7,200)\n",
    "y = BeLU(x)\n",
    "plt.plot(x,y)\n",
    "plt.ylabel(\"BeLU activation\")\n",
    "plt.xlabel(\"x\")\n",
    "plt.title(\"BeLU (x) : Zoomed in\")"
   ]
  },
  {
   "cell_type": "code",
   "execution_count": 8,
   "metadata": {},
   "outputs": [
    {
     "name": "stdout",
     "output_type": "stream",
     "text": [
      "TotalParameters_in_5_layer_net 134\n"
     ]
    }
   ],
   "source": [
    "## Make this into a function called - \"Design Complex Feed Forward Net\"\n",
    "# Ma another called - \"Design Feed Forward Net\"\n",
    "\n",
    "Number_Of_Nurons_in_5_layer_net = np.array([5,3,3,3,1]) ## The first and last indexes represent the inputs and ouptputs respectively\n",
    "\n",
    "def Count_Total_Parameters_In_Net(Number_Of_Nurons_in_5_layer_net ):\n",
    "    TotalParameters_in_5_layer_net = (Number_Of_Nurons_in_5_layer_net[0]*Number_Of_Nurons_in_5_layer_net[1] + \\\n",
    "    Number_Of_Nurons_in_5_layer_net[1]*Number_Of_Nurons_in_5_layer_net[2] + \\\n",
    "    Number_Of_Nurons_in_5_layer_net[2]*Number_Of_Nurons_in_5_layer_net[3] +\\\n",
    "    Number_Of_Nurons_in_5_layer_net[3]*Number_Of_Nurons_in_5_layer_net[4] + np.sum(Number_Of_Nurons_in_5_layer_net))\n",
    "    return TotalParameters_in_5_layer_net\n",
    "\n",
    "def Count_Total_Parameters_In_Complex_Net(Number_Of_Nurons_in_5_layer_net ):\n",
    "    return 2*Count_Total_Parameters_In_Net(Number_Of_Nurons_in_5_layer_net )\n",
    "\n",
    "\n",
    "\n",
    "TotalParameters_in_5_layer_net = Count_Total_Parameters_In_Complex_Net(Number_Of_Nurons_in_5_layer_net )\n",
    "print(\"TotalParameters_in_5_layer_net\",Count_Total_Parameters_In_Complex_Net(Number_Of_Nurons_in_5_layer_net ))"
   ]
  },
  {
   "cell_type": "code",
   "execution_count": 9,
   "metadata": {},
   "outputs": [
    {
     "name": "stdout",
     "output_type": "stream",
     "text": [
      "(3, 5)\n"
     ]
    }
   ],
   "source": [
    "## Defining the 5 layer complex network\n",
    "\n",
    "\n",
    "class Net5_(object):\n",
    "    \n",
    "    def __init__(self, Parameter_Vector, Number_Of_Nurons_in_5_layer_net):\n",
    "        \n",
    "        N_0 = 0\n",
    "        N1 = Number_Of_Nurons_in_5_layer_net[0]\n",
    "        N2 = Number_Of_Nurons_in_5_layer_net[1]\n",
    "        N3 = Number_Of_Nurons_in_5_layer_net[2]\n",
    "        N4 = Number_Of_Nurons_in_5_layer_net[3]\n",
    "        N5 = Number_Of_Nurons_in_5_layer_net[4]\n",
    "        \n",
    "        ## Reshaping into Weights\n",
    "        self.W1 = Parameter_Vector[N_0 :N_0 + N1*N2].reshape(N1,N2) + \\\n",
    "                    1j*Parameter_Vector[N_0 + N1*N2:N_0 + 2*N1*N2].reshape(N1,N2)\n",
    "        N_0 += 2*N1*N2     \n",
    "        \n",
    "        self.W2 =Parameter_Vector[N_0:N_0 + N2*N3].reshape(N2,N3) + \\\n",
    "                    1j*Parameter_Vector[N_0+ N2*N3:N_0 + 2*N2*N3].reshape(N2,N3)\n",
    "        N_0 += 2*N2*N3      \n",
    "        \n",
    "        self.W3 =Parameter_Vector[N_0:N_0 + N3*N4].reshape(N3,N4) + \\\n",
    "                    1j*Parameter_Vector[N_0+ N3*N4:N_0 + 2*N3*N4].reshape(N3,N4)\n",
    "        N_0 += 2*N3*N4      \n",
    "\n",
    "        self.W4 =Parameter_Vector[N_0:N_0 + N4*N5].reshape(N4,N5) + \\\n",
    "                    1j*Parameter_Vector[N_0+ N4*N5:N_0 + 2*N4*N5].reshape(N4,N5)\n",
    "        N_0 += 2*N4*N5     \n",
    "        \n",
    "#         self.W5 =Parameter_Vector[N_0:N_0 + N5*1].reshape(N5,1) + \\\n",
    "#                     1j*Parameter_Vector[N_0+ N5*1:N_0 + 2*N5*1].reshape(N5,1)\n",
    "#         N_0 += 2*N5*1          \n",
    "        \n",
    "        \n",
    "        ## Reshaping into biases\n",
    "        self.b1 = Parameter_Vector[N_0 :N_0 + N2].reshape(N2,1) + 1j*Parameter_Vector[N_0 + N2:N_0 + 2*N2].reshape(N2,1)\n",
    "        N_0 += 2*N2        \n",
    "        \n",
    "        self.b2 =  Parameter_Vector[N_0:N_0 + N3].reshape(N3,1) + 1j* Parameter_Vector[N_0 + N3:N_0 + 2*N3].reshape(N3,1)\n",
    "        N_0 += 2*N3      \n",
    "        \n",
    "        self.b3 =  Parameter_Vector[N_0:N_0 + N4].reshape(N4,1) + 1j* Parameter_Vector[N_0 + N4:N_0 + 2*N4].reshape(N4,1)\n",
    "        N_0 += 2*N4      \n",
    "        \n",
    "        self.b4 =  Parameter_Vector[N_0:N_0 + N5].reshape(N5,1) + 1j* Parameter_Vector[N_0 + N5:N_0 + 2*N5].reshape(N5,1)\n",
    "        N_0 += 2*N5        \n",
    "        \n",
    "#         print(N_0)\n",
    "#         self.b5 = Parameter_Vector[N_0:N_0 + 1].reshape(1,1) + 1j*Parameter_Vector[N_0 + 1:N_0 + 2*1].reshape(1,1)\n",
    "#         N_0 += 2*1    \n",
    "        \n",
    "def Reshape_into_5_layer_net(Parameter_Vector,Number_Of_Nurons_in_5_layer_net):\n",
    "    Net_ = Net5_(Parameter_Vector,Number_Of_Nurons_in_5_layer_net)\n",
    "    return Net_\n",
    "\n",
    "\n",
    "\n",
    "\n",
    "\n",
    "Parameter_Vector = np.random.rand(TotalParameters_in_5_layer_net)\n",
    "Net5 = Reshape_into_5_layer_net(Parameter_Vector,Number_Of_Nurons_in_5_layer_net)\n",
    "\n",
    "print(Net5.W4.shape)"
   ]
  },
  {
   "cell_type": "code",
   "execution_count": 10,
   "metadata": {},
   "outputs": [
    {
     "name": "stdout",
     "output_type": "stream",
     "text": [
      "[-19.48594773 -19.75213842 -23.51504035 -26.4720929  -17.01640918\n",
      " -24.78247272 -26.22956125 -16.84404108 -21.02331881 -25.80880519]\n"
     ]
    }
   ],
   "source": [
    "def Run_Through_5_layer_Net(Net,X):\n",
    "\n",
    "    \n",
    "    \n",
    "    \n",
    "        Z1 = np.dot(Net.W1.T,X) + Net.b1\n",
    "        A1 = np.maximum(Z1.real,0) - 0.1*np.minimum(Z1.real,0) \n",
    "\n",
    "\n",
    "        Z2 = np.dot(Net.W2.T,A1) + Net.b2\n",
    "        A2 = np.maximum(Z2.real,0) + 0.1*np.minimum(Z2.real,0) + 1j*(np.maximum(Z2.imag,0) + 0.1*np.minimum(Z2.imag,0))\n",
    "    \n",
    "        Z3 = np.dot(Net.W3.T,A2) + Net.b3\n",
    "        A3 = np.maximum(Z3.real,0) + 0.1*np.minimum(Z3.real,0) + 1j*(np.maximum(Z3.imag,0) + 0.1*np.minimum(Z3.imag,0))        \n",
    "        \n",
    "        Z4 = np.dot(Net.W4.T,A3) + Net.b4\n",
    "#         A4 = np.maximum(Z4.real,0) + 0.1*np.minimum(Z4.real,0) + 1j*(np.maximum(Z4.imag,0) + 0.1*np.minimum(Z4.imag,0))\n",
    "        A4 = BeLU(Z4.real)\n",
    "        \n",
    "\n",
    "        return A4\n",
    "\n",
    "X = np.random.rand(5,10) + 1j*(np.random.rand(5,10)-0.5)   \n",
    "print(Run_Through_5_layer_Net(Net5,X)[1,:])"
   ]
  },
  {
   "cell_type": "code",
   "execution_count": null,
   "metadata": {},
   "outputs": [],
   "source": []
  },
  {
   "cell_type": "code",
   "execution_count": 31,
   "metadata": {},
   "outputs": [],
   "source": [
    "## In this example the goal will to try to mimic an ill-conditioned N-D parabula\n",
    "## this inputs will be the position in N-D, and the output will be the value of the parabula,\n",
    "\n",
    "def function_To_Mimic(x): \n",
    "    return np.sum((100**(np.arange(D)/D))*((x-X_Optimal)**2) )\n",
    "\n",
    "\n",
    "\n",
    "D = 5\n",
    "X_Optimal = 10*(np.random.rand(D)-0.5)\n",
    "\n",
    "Number_Of_Samples = 1000\n",
    "X = 10*(np.random.rand(D,Number_Of_Samples)-0.5)\n",
    "Y = np.zeros(Number_Of_Samples)\n",
    "\n",
    "for i in range(Number_Of_Samples):\n",
    "    Y[i] = function_To_Mimic(X[:,i])\n",
    "\n"
   ]
  },
  {
   "cell_type": "code",
   "execution_count": 32,
   "metadata": {},
   "outputs": [
    {
     "name": "stdout",
     "output_type": "stream",
     "text": [
      "Cost Function Before Optimization 3687173.6977756512\n",
      "Cost Function After Optimization 34697.876296522416\n"
     ]
    }
   ],
   "source": [
    "\n",
    "def Cost_Function(Individuals_Parameter_Vector):\n",
    "    Net5 = Reshape_into_5_layer_net(Individuals_Parameter_Vector,Number_Of_Nurons_in_5_layer_net)\n",
    "    Predictions = Run_Through_5_layer_Net(Net5,X)[0,:]\n",
    "    \n",
    "    Cost = (1/Number_Of_Samples)*np.sum((Y-Predictions)**2)\n",
    "    return Cost\n",
    "    \n",
    "    \n",
    "    \n",
    "### This is where you decide on the 5 layer architecture\n",
    "Number_Of_Nurons_in_5_layer_net = np.array([D,3,3,3,1]) \n",
    "### This is where you decide on the 5 layer architecture\n",
    "TotalParameters_in_5_layer_net = Count_Total_Parameters_In_Complex_Net(Number_Of_Nurons_in_5_layer_net )\n",
    "\n",
    "### Check what is the initial Cost Function\n",
    "Parameter_Vector = np.random.rand(TotalParameters_in_5_layer_net)\n",
    "print(\"Cost Function Before Optimization\",Cost_Function(Parameter_Vector))\n",
    "\n",
    "\n",
    "\n",
    "### Decide how many function evaluations/samples you want to try for the optimization (like iterations for SGD)\n",
    "remaining_evals = 5000\n",
    "\n",
    "### This is the Optimization algorithm\n",
    "Best_Parameters_After_Optimization = Adaptive_Two_Mode_Optimizer.optimize(Cost_Function, Parameter_Vector, remaining_evals )\n",
    "print(\"Cost Function After Optimization\",Cost_Function(Best_Parameters_After_Optimization ))"
   ]
  },
  {
   "cell_type": "code",
   "execution_count": null,
   "metadata": {},
   "outputs": [],
   "source": []
  }
 ],
 "metadata": {
  "kernelspec": {
   "display_name": "Python 3",
   "language": "python",
   "name": "python3"
  },
  "language_info": {
   "codemirror_mode": {
    "name": "ipython",
    "version": 3
   },
   "file_extension": ".py",
   "mimetype": "text/x-python",
   "name": "python",
   "nbconvert_exporter": "python",
   "pygments_lexer": "ipython3",
   "version": "3.6.5"
  }
 },
 "nbformat": 4,
 "nbformat_minor": 2
}
