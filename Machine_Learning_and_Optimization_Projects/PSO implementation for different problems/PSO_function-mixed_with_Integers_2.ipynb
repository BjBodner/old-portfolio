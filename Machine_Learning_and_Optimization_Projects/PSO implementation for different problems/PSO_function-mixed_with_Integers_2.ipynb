{
 "cells": [
  {
   "cell_type": "code",
   "execution_count": 1,
   "metadata": {},
   "outputs": [],
   "source": [
    "import numpy as np\n",
    "import matplotlib.pyplot as plt"
   ]
  },
  {
   "cell_type": "code",
   "execution_count": 2,
   "metadata": {},
   "outputs": [
    {
     "data": {
      "text/plain": [
       "'\\n        This is how the DPSO is different    \\n        ## Sigmoig transfer function\\n        s = 1/(1 + np.exp(Swarm1.Particles.V[k,:]))\\n        \\n#         print(s)\\n        Swarm1.Particles.X[k,:] = (np.random.rand(Number_Of_Variables) > s)\\n\\n'"
      ]
     },
     "execution_count": 2,
     "metadata": {},
     "output_type": "execute_result"
    }
   ],
   "source": [
    "\"\"\"\n",
    "        This is how the DPSO is different    \n",
    "        ## Sigmoig transfer function\n",
    "        s = 1/(1 + np.exp(Swarm1.Particles.V[k,:]))\n",
    "        \n",
    "#         print(s)\n",
    "        Swarm1.Particles.X[k,:] = (np.random.rand(Number_Of_Variables) > s)\n",
    "\n",
    "\"\"\""
   ]
  },
  {
   "cell_type": "code",
   "execution_count": 26,
   "metadata": {},
   "outputs": [],
   "source": [
    "def Optimize_With_PSO(problem,Number_Of_Particles,Number_Of_Iterations,Visualization_Flag):\n",
    "    \n",
    "    \n",
    "    Number_Of_Variables = problem.Number_Of_Variables\n",
    "    Upper_Bounds = problem.Upper_Bounds\n",
    "    Lower_Bounds = problem.Lower_Bounds\n",
    "    \n",
    "#     Number_Of_Variables = 10 # they called this nVar\n",
    "#     Upper_Bounds = 10*np.ones(Number_Of_Variables) ## they called thus up\n",
    "#     Lower_Bounds = -10*np.ones(Number_Of_Variables) ## they called it lb\n",
    "\n",
    "\n",
    "    \n",
    "    \n",
    "    ### Defining the hyperparameters\n",
    "\n",
    "\n",
    "\n",
    "    # Weight_Of_Inertia = 1 ## This is the hyperparameter \"w\"\n",
    "    W_Max = 0.9 ## this is the Initial weight of the inertia\n",
    "    W_Min = 0.2 ## this is the final weight of the inertia\n",
    "    c1 = 2 ## This is the individual weight (best found location so far)\n",
    "    c2 = 2 ## this is the social weight (best found location from team)\n",
    "    vMax = (Upper_Bounds - Lower_Bounds)*0.2\n",
    "    vMin = -vMax\n",
    "\n",
    "\n",
    "\n",
    "\n",
    "\n",
    "\n",
    "    ## initializing the Swarm object\n",
    "\n",
    "\n",
    "    class Particles(object):\n",
    "        def __init__(self, Upper_Bounds,Lower_Bounds,Number_Of_Variables,PBEST):\n",
    "            self.V = np.zeros((Number_Of_Particles,Number_Of_Variables))\n",
    "            self.X = np.zeros((Number_Of_Particles,Number_Of_Variables))\n",
    "            self.O = 10**30*np.ones(Number_Of_Particles)\n",
    "            for k in range (0,Number_Of_Particles):\n",
    "                self.X[k,:] = (Upper_Bounds-Lower_Bounds)*np.random.rand(Number_Of_Variables ) + Lower_Bounds\n",
    "                if np.random.rand() > 0.5:\n",
    "                    self.X[k,Number_Of_Variables-1] = 1\n",
    "                else:\n",
    "                    self.X[k,Number_Of_Variables-1] = 0\n",
    "\n",
    "            self.PBEST = PBEST(Number_Of_Variables,Number_Of_Particles)\n",
    "\n",
    "    class PBEST(object):\n",
    "\n",
    "        def __init__(self,Number_Of_Variables,Number_Of_Particles):\n",
    "    #             self.X[k,:] = np.zeros(Number_Of_Variables)\n",
    "                self.X = np.zeros((Number_Of_Particles,Number_Of_Variables))\n",
    "                self.O = 10**30*np.ones(Number_Of_Particles)\n",
    "\n",
    "\n",
    "\n",
    "    class GBEST(object):\n",
    "\n",
    "        def __init__(self,Number_Of_Variables,Number_Of_Particles):\n",
    "    #             self.X[k,:] = np.zeros(Number_Of_Variables)\n",
    "                self.X = np.zeros(Number_Of_Variables)\n",
    "                self.O = 10**30\n",
    "\n",
    "\n",
    "    class Swarm(object):\n",
    "\n",
    "        def __init__(self,Upper_Bounds,Lower_Bounds,Number_Of_Variables,PBEST,Particles):\n",
    "            self.Particles = Particles(Upper_Bounds,Lower_Bounds,Number_Of_Variables,PBEST)\n",
    "            self.GBEST = GBEST(Number_Of_Variables,Number_Of_Particles)\n",
    "\n",
    "\n",
    "    \n",
    "    \n",
    "    \n",
    "    \n",
    "    ################ This is the main Loop\n",
    "    Swarm1 = Swarm(Upper_Bounds,Lower_Bounds,Number_Of_Variables,PBEST,Particles)\n",
    "\n",
    "\n",
    "\n",
    "    # print(Swarm1.Particles.PBEST.O)\n",
    "    Cost_Vector = np.zeros(Number_Of_Iterations)\n",
    "    Average_Objective = np.zeros(Number_Of_Iterations)\n",
    "    for t in range(0,Number_Of_Iterations):\n",
    "\n",
    "        ## this is to get the \n",
    "        for k in range(0,Number_Of_Particles):\n",
    "\n",
    "            ## Calculate the curent Objective\n",
    "#             Swarm1.Particles.X[k,Number_Of_Variables-1] = int(Swarm1.Particles.X[k,Number_Of_Variables-1])\n",
    "            Swarm1.Particles.O[k] = problem.fobj(Swarm1.Particles.X[k,:]) \n",
    "\n",
    "            ## particle history\n",
    "            \n",
    "            Position_History[t,k,:] = Swarm1.Particles.X[k,:]\n",
    "            ##  update PBEST\n",
    "            if Swarm1.Particles.O[k] < Swarm1.Particles.PBEST.O[k]:\n",
    "                Swarm1.Particles.PBEST.O[k] = Swarm1.Particles.O[k]\n",
    "                Swarm1.Particles.PBEST.X[k,:] = Swarm1.Particles.X[k,:]          \n",
    "\n",
    "            ## Update GBEST\n",
    "            if Swarm1.Particles.O[k] < Swarm1.GBEST.O:\n",
    "                Swarm1.GBEST.O = Swarm1.Particles.O[k]   \n",
    "                Swarm1.GBEST.X[:] = Swarm1.Particles.X[k,:]  \n",
    "\n",
    "        #### Update the X and V vectors\n",
    "        w = W_Max - t*(W_Max - W_Min)/Number_Of_Iterations\n",
    "\n",
    "        for k in range(0,Number_Of_Particles):\n",
    "            Swarm1.Particles.V[k,:] = w*Swarm1.Particles.V[k,:]\\\n",
    "                                    + c1*np.random.rand(Number_Of_Variables)*(Swarm1.Particles.PBEST.X[k,:] - Swarm1.Particles.X[k,:] )\\\n",
    "                                    + c2*np.random.rand(Number_Of_Variables)*(Swarm1.GBEST.X- Swarm1.Particles.X[k,:] )\n",
    "\n",
    "\n",
    "\n",
    "\n",
    "            ## Velocity Checking and limitation\n",
    "            index1 = np.nonzero(Swarm1.Particles.V[k,:] > vMax)\n",
    "            index2 = np.nonzero(Swarm1.Particles.V[k,:] < vMin)\n",
    "\n",
    "            if Swarm1.Particles.V[k,index1].shape[1] >= 1:\n",
    "                Swarm1.Particles.V[k,index1] = vMax[index1]\n",
    "\n",
    "            if Swarm1.Particles.V[k,index2].shape[1] >= 1:\n",
    "                Swarm1.Particles.V[k,index2] = vMin[index2]\n",
    "\n",
    "\n",
    "                \n",
    "                \n",
    "            ### This is the DPSO part - This is now only for the last one\n",
    "            for p in enumerate (Descrete_Indexes):\n",
    "                s = 1/(1 + np.exp(Swarm1.Particles.V[k,p[1]]))\n",
    "                Swarm1.Particles.X[k,p[1]] = (np.random.rand() > s)*Descrete_Value[1] + (np.random.rand() < s)*Descrete_Value[0]\n",
    "            \n",
    "            \n",
    "\n",
    "            ## Position Checking and limitation\n",
    "            index1 = np.nonzero(Swarm1.Particles.X[k,:] > Upper_Bounds)\n",
    "            index2 = np.nonzero(Swarm1.Particles.X[k,:] < Lower_Bounds)\n",
    "\n",
    "            if Swarm1.Particles.X[k,index1].shape[1] >= 1:\n",
    "                Swarm1.Particles.X[k,index1] = Upper_Bounds[index1]\n",
    "\n",
    "            if Swarm1.Particles.X[k,index2].shape[1] >= 1:\n",
    "                Swarm1.Particles.X[k,index2] = Lower_Bounds[index2]\n",
    "\n",
    "            for p in enumerate (Continuous_Indexes): ## this is the number of continuous variables\n",
    "                Swarm1.Particles.X[k,p[1]] = Swarm1.Particles.X[k,p[1]] + Swarm1.Particles.V[k,p[1]]\n",
    "\n",
    "    #     print(np.max(Swarm1.Particles.V))\n",
    "        Cost_Vector[t] =    Swarm1.GBEST.O\n",
    "        Average_Objective[t] = np.mean(Swarm1.Particles.PBEST.O)\n",
    "\n",
    "        if Visualization_Flag:\n",
    "            \n",
    "            plt.plot(Cost_Vector)\n",
    "    return Swarm1.GBEST.O, Swarm1.GBEST.X, Cost_Vector,Average_Objective"
   ]
  },
  {
   "cell_type": "code",
   "execution_count": 29,
   "metadata": {},
   "outputs": [
    {
     "name": "stdout",
     "output_type": "stream",
     "text": [
      "Descrete_Indexes [8 9]\n",
      "Continuous_Indexes [[0 1 2 3 4 5 6 7]]\n",
      "O_min 160.88821027031162\n",
      "X_min [-6.46917652 -1.09085384  6.71828538  4.25608441  4.74271698  0.1901222\n",
      "  1.90429982 -5.33315308  0.          0.        ]\n"
     ]
    },
    {
     "data": {
      "text/plain": [
       "<matplotlib.collections.PathCollection at 0x1807cb24438>"
      ]
     },
     "execution_count": 29,
     "metadata": {},
     "output_type": "execute_result"
    },
    {
     "data": {
      "image/png": "[encoded data removed]",
      "text/plain": [
       "<matplotlib.figure.Figure at 0x1807c2bbcc0>"
      ]
     },
     "metadata": {},
     "output_type": "display_data"
    },
    {
     "data": {
      "image/png": "[encoded data removed]",
      "text/plain": [
       "<matplotlib.figure.Figure at 0x1807c2bb320>"
      ]
     },
     "metadata": {},
     "output_type": "display_data"
    }
   ],
   "source": [
    "Descrete_Value = np.array([-100, 20 ])\n",
    "\n",
    "def fun(X_Swarm): ## this is the sphere function\n",
    "    \n",
    "#     print((10**(6*np.arange(len(X_Swarm))/len(X_Swarm))))\n",
    "    return np.sum((10**(0*np.arange(len(X_Swarm))/len(X_Swarm)))*(X_Swarm )**2,0)\n",
    "\n",
    "\n",
    "\n",
    "\n",
    "class Problem(object):\n",
    "    \n",
    "    def __init__(self,Number_Of_Variables):\n",
    "            self.Number_Of_Variables = Number_Of_Variables\n",
    "            self.Upper_Bounds = 10*np.ones(Number_Of_Variables) ## they called thus up\n",
    "            self.Lower_Bounds = -10*np.ones(Number_Of_Variables) ## they called it lb\n",
    "            self.fobj = fun\n",
    "            \n",
    "            ## This is to set the binary varibale bounds\n",
    "            self.Upper_Bounds[8] = Descrete_Value[1]\n",
    "            self.Lower_Bounds[8] = Descrete_Value[0]\n",
    "            self.Upper_Bounds[9] = Descrete_Value[1]\n",
    "            self.Lower_Bounds[9] = Descrete_Value[0]\n",
    "            \n",
    "Number_Of_Variables = 10\n",
    "problem = Problem(Number_Of_Variables)\n",
    "Visualization_Flag = 1\n",
    "\n",
    "\n",
    "Number_Of_Particles = 30 ### they called this noP\n",
    "Number_Of_Iterations = 500 ## They called this maxlter\n",
    "\n",
    "Position_History = np.zeros((Number_Of_Iterations,Number_Of_Particles,Number_Of_Variables))\n",
    "\n",
    "\n",
    "Descrete_Indexes = np.array([8,9])\n",
    "Continuous_Indexes = []\n",
    "for i in range(0,Number_Of_Variables):\n",
    "    if np.sum(Descrete_Indexes == i) == 0: ## meaning it is not descrete\n",
    "        Continuous_Indexes.append(i)        \n",
    "Continuous_Indexes = np.array([Continuous_Indexes]) \n",
    "\n",
    "print(\"Descrete_Indexes\",Descrete_Indexes)\n",
    "print(\"Continuous_Indexes\",Continuous_Indexes)\n",
    "\n",
    "\n",
    "\n",
    "\n",
    "O_min,X_min,Cost_Vector,Average_Objective = Optimize_With_PSO(problem,Number_Of_Particles,Number_Of_Iterations,Visualization_Flag)\n",
    "\n",
    "if np.min(Cost_Vector < 10**-8):\n",
    "    First_Index_Below_10_Minus_8 = np.min(np.arange(Number_Of_Iterations)[np.nonzero(Cost_Vector < 10**-8)])\n",
    "    print(First_Index_Below_10_Minus_8)\n",
    "    print(np.log10(First_Index_Below_10_Minus_8*Number_Of_Particles/Number_Of_Variables))\n",
    "\n",
    "\n",
    "print(\"O_min\",O_min)\n",
    "print(\"X_min\",X_min)\n",
    "\n",
    "plt.figure(0)\n",
    "plt.plot(np.log10(Cost_Vector))\n",
    "plt.plot(np.log10(Average_Objective))\n",
    "\n",
    "\n",
    "plt.figure(1)\n",
    "plt.scatter(Position_History[:,:,0],Position_History[:,:,1],0.1)"
   ]
  },
  {
   "cell_type": "code",
   "execution_count": 27,
   "metadata": {},
   "outputs": [
    {
     "name": "stdout",
     "output_type": "stream",
     "text": [
      "0.0005311972908728863\n",
      "0.0009250420198731553\n"
     ]
    },
    {
     "data": {
      "image/png": "[encoded data removed]",
      "text/plain": [
       "<matplotlib.figure.Figure at 0x15b3f12b6d8>"
      ]
     },
     "metadata": {},
     "output_type": "display_data"
    }
   ],
   "source": [
    "\n",
    "\n",
    "Number_Of_Particles = 30 ### they called this noP\n",
    "Number_Of_Iterations = 500 ## They called this maxlter\n",
    "\n",
    "\n",
    "O_min,X_min,Cost_Vector1,Average_Objective1 = Optimize_With_PSO(problem,Number_Of_Particles,Number_Of_Iterations,Visualization_Flag)\n",
    "print(O_min)\n",
    "\n",
    "\n",
    "\n",
    "\n",
    "Number_Of_Particles = 30 ### they called this noP\n",
    "Number_Of_Iterations = 500 ## They called this maxlter\n",
    "\n",
    "\n",
    "O_min,X_min,Cost_Vector2,Average_Objective2 = Optimize_With_PSO(problem,Number_Of_Particles,Number_Of_Iterations,Visualization_Flag)\n",
    "print(O_min)"
   ]
  },
  {
   "cell_type": "code",
   "execution_count": null,
   "metadata": {},
   "outputs": [],
   "source": []
  },
  {
   "cell_type": "code",
   "execution_count": null,
   "metadata": {},
   "outputs": [],
   "source": []
  }
 ],
 "metadata": {
  "kernelspec": {
   "display_name": "Python 3",
   "language": "python",
   "name": "python3"
  },
  "language_info": {
   "codemirror_mode": {
    "name": "ipython",
    "version": 3
   },
   "file_extension": ".py",
   "mimetype": "text/x-python",
   "name": "python",
   "nbconvert_exporter": "python",
   "pygments_lexer": "ipython3",
   "version": "3.6.5"
  }
 },
 "nbformat": 4,
 "nbformat_minor": 2
}
