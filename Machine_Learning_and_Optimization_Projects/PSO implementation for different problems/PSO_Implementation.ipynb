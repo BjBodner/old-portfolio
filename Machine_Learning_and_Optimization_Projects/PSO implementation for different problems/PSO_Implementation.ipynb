{
 "cells": [
  {
   "cell_type": "code",
   "execution_count": 46,
   "metadata": {},
   "outputs": [],
   "source": [
    "import numpy as np\n",
    "import matplotlib.pyplot as plt"
   ]
  },
  {
   "cell_type": "code",
   "execution_count": 69,
   "metadata": {},
   "outputs": [],
   "source": [
    "def fobj(X_Swarm,X_Optimal): ## this is the sphere function\n",
    "    return np.sum((X_Swarm - X_Optimal)**2,0)\n",
    "\n",
    "\n",
    "## \n",
    "Number_Of_Variables = 10 # they called this nVar\n",
    "Upper_Bounds = 10*np.ones(Number_Of_Variables) ## they called thus up\n",
    "Lower_Bounds = -10*np.ones(Number_Of_Variables) ## they called it lb\n",
    "\n",
    "\n",
    "\n",
    "\n",
    "### Defining the hyperparameters\n",
    "\n",
    "Number_Of_Particles = 30 ### they called this noP\n",
    "Number_Of_Iterations = 500 ## They called this maxlter\n",
    "\n",
    "# Weight_Of_Inertia = 1 ## This is the hyperparameter \"w\"\n",
    "W_Max = 0.9 ## this is the Initial weight of the inertia\n",
    "W_Min = 0.2 ## this is the final weight of the inertia\n",
    "c1 = 2 ## This is the individual weight (best found location so far)\n",
    "c2 = 2 ## this is the social weight (best found location from team)\n",
    "\n",
    "\n",
    "\n",
    "\n"
   ]
  },
  {
   "cell_type": "code",
   "execution_count": 70,
   "metadata": {},
   "outputs": [
    {
     "name": "stdout",
     "output_type": "stream",
     "text": [
      "[1e+30 1e+30 1e+30 1e+30 1e+30 1e+30 1e+30 1e+30 1e+30 1e+30 1e+30 1e+30\n",
      " 1e+30 1e+30 1e+30 1e+30 1e+30 1e+30 1e+30 1e+30 1e+30 1e+30 1e+30 1e+30\n",
      " 1e+30 1e+30 1e+30 1e+30 1e+30 1e+30]\n"
     ]
    }
   ],
   "source": [
    "## initializing the Swarm object\n",
    "\n",
    "\n",
    "class Particles(object):\n",
    "    def __init__(self, Upper_Bounds,Lower_Bounds,Number_Of_Variables,PBEST):\n",
    "        self.V = np.zeros((Number_Of_Particles,Number_Of_Variables))\n",
    "        self.X = np.zeros((Number_Of_Particles,Number_Of_Variables))\n",
    "        self.O = 10**30*np.ones(Number_Of_Particles)\n",
    "        for k in range (0,Number_Of_Particles):\n",
    "            self.X[k,:] = (Upper_Bounds-Lower_Bounds)*np.random.rand(Number_Of_Variables ) + Lower_Bounds\n",
    "\n",
    "        \n",
    "        self.PBEST = PBEST(Number_Of_Variables,Number_Of_Particles)\n",
    "            \n",
    "class PBEST(object):\n",
    "    \n",
    "    def __init__(self,Number_Of_Variables,Number_Of_Particles):\n",
    "#             self.X[k,:] = np.zeros(Number_Of_Variables)\n",
    "            self.X = np.zeros((Number_Of_Particles,Number_Of_Variables))\n",
    "            self.O = 10**30*np.ones(Number_Of_Particles)\n",
    "            \n",
    "            \n",
    "            \n",
    "class GBEST(object):\n",
    "    \n",
    "    def __init__(self,Number_Of_Variables,Number_Of_Particles):\n",
    "#             self.X[k,:] = np.zeros(Number_Of_Variables)\n",
    "            self.X = np.zeros(Number_Of_Variables)\n",
    "            self.O = 10**30\n",
    "            \n",
    "\n",
    "class Swarm(object):\n",
    "    \n",
    "    def __init__(self,Upper_Bounds,Lower_Bounds,Number_Of_Variables,PBEST,Particles):\n",
    "        self.Particles = Particles(Upper_Bounds,Lower_Bounds,Number_Of_Variables,PBEST)\n",
    "        self.GBEST = GBEST(Number_Of_Variables,Number_Of_Particles)\n",
    "    \n",
    "    \n",
    "\n",
    "Particles1 = Particles(Upper_Bounds,Lower_Bounds,Number_Of_Variables,PBEST)\n",
    "\n",
    "Swarm1 = Swarm(Upper_Bounds,Lower_Bounds,Number_Of_Variables,PBEST,Particles)\n",
    "print(Swarm1.Particles.PBEST.O)"
   ]
  },
  {
   "cell_type": "code",
   "execution_count": 71,
   "metadata": {},
   "outputs": [],
   "source": [
    "## Mail loop\n",
    "\n",
    "X_Optimal = (Upper_Bounds-Lower_Bounds)*np.random.rand(Number_Of_Variables ) + Lower_Bounds\n",
    "\n",
    "\n",
    "# print(Swarm1.Particles.PBEST.O)\n",
    "Cost_Vector = np.zeros(Number_Of_Iterations)\n",
    "for t in range(0,Number_Of_Iterations):\n",
    "    \n",
    "    ## this is to get the \n",
    "    for k in range(0,Number_Of_Particles):\n",
    "        \n",
    "        ## Calculate the curent Objective\n",
    "        Swarm1.Particles.O[k] = fobj(Swarm1.Particles.X[k,:],X_Optimal) \n",
    "        \n",
    "        ##  update PBEST\n",
    "        if Swarm1.Particles.O[k] < Swarm1.Particles.PBEST.O[k]:\n",
    "            Swarm1.Particles.PBEST.O[k] = Swarm1.Particles.O[k]\n",
    "            Swarm1.Particles.PBEST.X[k,:] = Swarm1.Particles.X[k,:]          \n",
    "        \n",
    "        ## Update GBEST\n",
    "        if Swarm1.Particles.O[k] < Swarm1.GBEST.O:\n",
    "            Swarm1.GBEST.O = Swarm1.Particles.O[k]   \n",
    "            Swarm1.GBEST.X[:] = Swarm1.Particles.X[k,:]  \n",
    "\n",
    "    #### Update the X and V vectors\n",
    "    w = W_Max - t*(W_Max - W_Min)/Number_Of_Iterations\n",
    "    \n",
    "    for k in range(0,Number_Of_Particles):\n",
    "        Swarm1.Particles.V[k,:] = w*Swarm1.Particles.V[k,:]\\\n",
    "                                + c1*np.random.rand(Number_Of_Variables)*(Swarm1.Particles.PBEST.X[k,:] - Swarm1.Particles.X[k,:] )\\\n",
    "                                + c2*np.random.rand(Number_Of_Variables)*(Swarm1.GBEST.X- Swarm1.Particles.X[k,:] )\n",
    "        \n",
    "        Swarm1.Particles.X[k,:] = Swarm1.Particles.X[k,:] + Swarm1.Particles.V[k,:]\n",
    "        \n",
    "    Cost_Vector[t] =    Swarm1.GBEST.O\n",
    "\n",
    "    \n",
    "    \n",
    "    "
   ]
  },
  {
   "cell_type": "code",
   "execution_count": 72,
   "metadata": {},
   "outputs": [
    {
     "data": {
      "text/plain": [
       "[<matplotlib.lines.Line2D at 0x290b4a704e0>]"
      ]
     },
     "execution_count": 72,
     "metadata": {},
     "output_type": "execute_result"
    },
    {
     "data": {
      "image/png": "[encoded data removed]",
      "text/plain": [
       "<matplotlib.figure.Figure at 0x290b49636a0>"
      ]
     },
     "metadata": {},
     "output_type": "display_data"
    }
   ],
   "source": [
    "plt.plot(np.log10(Cost_Vector))"
   ]
  },
  {
   "cell_type": "code",
   "execution_count": null,
   "metadata": {},
   "outputs": [],
   "source": []
  }
 ],
 "metadata": {
  "kernelspec": {
   "display_name": "Python 3",
   "language": "python",
   "name": "python3"
  },
  "language_info": {
   "codemirror_mode": {
    "name": "ipython",
    "version": 3
   },
   "file_extension": ".py",
   "mimetype": "text/x-python",
   "name": "python",
   "nbconvert_exporter": "python",
   "pygments_lexer": "ipython3",
   "version": "3.6.5"
  }
 },
 "nbformat": 4,
 "nbformat_minor": 2
}
