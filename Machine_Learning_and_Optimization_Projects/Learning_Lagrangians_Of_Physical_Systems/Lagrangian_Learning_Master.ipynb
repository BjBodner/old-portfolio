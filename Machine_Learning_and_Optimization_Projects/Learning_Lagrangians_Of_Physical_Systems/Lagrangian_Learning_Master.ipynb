{
 "cells": [
  {
   "cell_type": "code",
   "execution_count": 1,
   "metadata": {},
   "outputs": [],
   "source": [
    "\n",
    "# coding: utf-8\n",
    "\n",
    "# In[346]:\n",
    "\n",
    "\n",
    "import numpy as np\n",
    "import math\n",
    "from array import array\n",
    "import sys\n",
    "from scipy.integrate import odeint\n",
    "from mpl_toolkits.mplot3d import Axes3D\n",
    "import matplotlib.pyplot as plt\n",
    "from matplotlib import cm\n",
    "from matplotlib.ticker import LinearLocator, FormatStrFormatter"
   ]
  },
  {
   "cell_type": "code",
   "execution_count": 2,
   "metadata": {},
   "outputs": [
    {
     "name": "stdout",
     "output_type": "stream",
     "text": [
      "2\n"
     ]
    }
   ],
   "source": [
    "import Lagrangian_Learning_Functions"
   ]
  },
  {
   "cell_type": "code",
   "execution_count": 6,
   "metadata": {},
   "outputs": [
    {
     "data": {
      "text/plain": [
       "[<matplotlib.lines.Line2D at 0x1f11091be80>]"
      ]
     },
     "execution_count": 6,
     "metadata": {},
     "output_type": "execute_result"
    },
    {
     "data": {
      "image/png": "[encoded data removed]",
      "text/plain": [
       "<matplotlib.figure.Figure at 0x1f10e8e8be0>"
      ]
     },
     "metadata": {},
     "output_type": "display_data"
    }
   ],
   "source": [
    "\n",
    "# In[476]:\n",
    "\n",
    "\n",
    "## Two mode optimizer\n",
    "#function [Suggested_Parameter_Samples_From_Two_Mode,ImprovementItteration] = Two_Mode_Optimizer(InitialParameters,NumberOfSamples,Parameter_ChangeVector,Cost_Change,ImprovementItteration,TargetedSearchDecayRate,RandomSearchGrowthRate,TargetedMultiplicationFactor,RandomMultiplicationFactor,SignificantChangeValue)\n",
    "import numpy as np\n",
    "import matplotlib.pyplot as plt\n",
    "\n",
    "def Two_Mode_Optimizer(InitialParameters,NumberOfSamples,Parameter_ChangeVector,Cost_Change,ImprovementItteration,TargetedSearchDecayRate,RandomSearchGrowthRate,TargetedMultiplicationFactor,RandomMultiplicationFactor,SignificantChangeValue,Maximal_Random_Search):\n",
    "\n",
    "# function [Suggested_Parameter_Samples_From_Two_Mode,ImprovementItteration] = Two_Mode_Optimizer(InitialParameters,NumberOfSamples,Parameter_ChangeVector,Cost_Change,ImprovementItteration,TargetedSearchDecayRate,RandomSearchGrowthRate,TargetedMultiplicationFactor,RandomMultiplicationFactor,SignificantChangeValue)\n",
    "\n",
    "\n",
    "    Vectorized_Implimentation = 0\n",
    "    For_Loop_Implimentation = 1\n",
    "    TargetedSearch = np.zeros((len(InitialParameters),NumberOfSamples))\n",
    "    if sum(abs(Parameter_ChangeVector)) > SignificantChangeValue:\n",
    "        ImprovementItteration = 1\n",
    "\n",
    "\n",
    "    if Vectorized_Implimentation == 1:\n",
    "        TargetedSearch = exp(-(ImprovementItteration-1)/TargetedSearchDecayRate)*diag(TargetedMultiplicationFactor*(-Cost_Change)*Parameter_ChangeVector)*ones(length(InitialParameters),NumberOfSamples)*diag(rand(NumberOfSamples,1))\n",
    "        RandomSearch = exp((ImprovementItteration-1)*RandomSearchGrowthRate)*RandomMultiplicationFactor*(rand(length(InitialParameters),NumberOfSamples)-0.5)\n",
    "\n",
    "\n",
    "    if For_Loop_Implimentation == 1:\n",
    "        RandomNumbers = np.random.rand(NumberOfSamples,1)\n",
    "        \n",
    "        TargetedSearch_Amplitude = RandomNumbers*np.exp(-(ImprovementItteration-1)/TargetedSearchDecayRate)         *TargetedMultiplicationFactor*(-Cost_Change)\n",
    "\n",
    "        for sample in range (1,NumberOfSamples):\n",
    "\n",
    "            TargetedSearch[:,sample] = TargetedSearch_Amplitude[sample]*Parameter_ChangeVector[:,0]\n",
    "\n",
    "        \n",
    "        RandomSearch = min(np.exp((ImprovementItteration-1)*RandomSearchGrowthRate)*RandomMultiplicationFactor,Maximal_Random_Search)         *(np.random.rand(len(InitialParameters),NumberOfSamples)-0.5)\n",
    "        \n",
    "    \n",
    "        if min(np.exp((ImprovementItteration-1)*RandomSearchGrowthRate)*RandomMultiplicationFactor,Maximal_Random_Search) == Maximal_Random_Search:\n",
    "            RandomSearch = np.sin((ImprovementItteration-1)*2*RandomSearchGrowthRate + np.pi/2)*0.1             *(np.random.rand(len(InitialParameters),NumberOfSamples)-0.5)\n",
    "\n",
    "#     print(RandomSearch)\n",
    "    Suggested_Parameter_Samples_From_Two_Mode = InitialParameters + TargetedSearch + RandomSearch\n",
    "    Suggested_Parameter_Samples_From_Two_Mode[:,1] = InitialParameters[:,0]\n",
    "\n",
    "    ImprovementItteration = ImprovementItteration +1;\n",
    "\n",
    "\n",
    "    return Suggested_Parameter_Samples_From_Two_Mode,ImprovementItteration\n",
    "\n",
    "\n",
    "\n",
    "\n",
    "def Optimize_With_Two_Mode_Algorithm(x,y,InitialParameters,Cost1,NumberOfSamples,ImprovementItteration,TargetedSearchDecayRate,RandomSearchGrowthRate,TargetedMultiplicationFactor ,RandomMultiplicationFactor,SignificantChangeValue,Maximal_Random_Search,print_Cost,Number_Of_Itterations):\n",
    "    \n",
    "    Parameter_ChangeVector = np.zeros((len(InitialParameters),1))\n",
    "    Cost_Change = 0\n",
    "    \n",
    "    PreviousCost = Cost1.Cost_Function(y,InitialParameters)\n",
    "#     PreviousCost = np.sum((InitialParameters-y)**2)\n",
    "    Best_Individual = InitialParameters\n",
    "\n",
    "    for i in range(0,Number_Of_Itterations):\n",
    "        Suggested_Parameter_Samples_From_Two_Mode,ImprovementItteration = Two_Mode_Optimizer(Best_Individual,NumberOfSamples,Parameter_ChangeVector,Cost_Change,ImprovementItteration,TargetedSearchDecayRate,RandomSearchGrowthRate,TargetedMultiplicationFactor,RandomMultiplicationFactor,SignificantChangeValue,Maximal_Random_Search)\n",
    "\n",
    "#         Cost = np.sum((Suggested_Parameter_Samples_From_Two_Mode-y)**2,0)\n",
    "        Cost    = Cost1.Cost_Function(y,Suggested_Parameter_Samples_From_Two_Mode)\n",
    "        index_min = np.argmin(Cost)\n",
    "        CurrentCost = Cost[index_min ]\n",
    "\n",
    "        Cost_Change = CurrentCost - PreviousCost\n",
    "        Parameter_ChangeVector = np.array([Suggested_Parameter_Samples_From_Two_Mode[:,index_min]]).T - Best_Individual\n",
    "        Best_Individual = np.array([Suggested_Parameter_Samples_From_Two_Mode[:,index_min]]).T\n",
    "\n",
    "        PreviousCost = CurrentCost\n",
    "        if print_Cost == 1:\n",
    "            print(CurrentCost)\n",
    "    \n",
    "    return Best_Individual\n",
    "\n",
    "\n",
    "\n",
    "## Defining Cost Function\n",
    "class Cost_Function:\n",
    "    def Cost_Function(self,Y,Individuals): \n",
    "        \n",
    "        ## This should be a cost function to be minimized\n",
    "        ## This should output the cost / negative fittness - for each of the individuals\n",
    "\n",
    "        Cost_Function1 = np.sum((Y - Individuals)**2,0)\n",
    "\n",
    "        return Cost_Function1\n",
    "    \n",
    "    \n",
    "    \n",
    "    ## Two mode test\n",
    "InitialParameters = np.random.rand(20,1)\n",
    "x = np.array([np.linspace(0,4,20)]).T\n",
    "y = x**2\n",
    "Cost1 = Cost_Function()\n",
    "Number_Of_Itterations = 1000\n",
    "\n",
    "NumberOfSamples = 10\n",
    "## Setting the hyperparameters for two mode\n",
    "ImprovementItteration = 1\n",
    "TargetedSearchDecayRate = 1\n",
    "RandomSearchGrowthRate = 0.1\n",
    "TargetedMultiplicationFactor = 100\n",
    "RandomMultiplicationFactor = 100\n",
    "SignificantChangeValue = 0.2\n",
    "Maximal_Random_Search = 0.5\n",
    "\n",
    "print_Cost = 0\n",
    "Best_Individual = Optimize_With_Two_Mode_Algorithm(x,y,InitialParameters,Cost1,NumberOfSamples,ImprovementItteration,TargetedSearchDecayRate,RandomSearchGrowthRate,TargetedMultiplicationFactor ,RandomMultiplicationFactor,SignificantChangeValue,Maximal_Random_Search,print_Cost,Number_Of_Itterations)\n",
    "\n",
    "plt.plot(x,y)\n",
    "plt.plot(x,Best_Individual)\n"
   ]
  },
  {
   "cell_type": "code",
   "execution_count": null,
   "metadata": {},
   "outputs": [],
   "source": []
  },
  {
   "cell_type": "code",
   "execution_count": null,
   "metadata": {},
   "outputs": [],
   "source": []
  },
  {
   "cell_type": "code",
   "execution_count": null,
   "metadata": {},
   "outputs": [],
   "source": []
  }
 ],
 "metadata": {
  "kernelspec": {
   "display_name": "Python 3",
   "language": "python",
   "name": "python3"
  },
  "language_info": {
   "codemirror_mode": {
    "name": "ipython",
    "version": 3
   },
   "file_extension": ".py",
   "mimetype": "text/x-python",
   "name": "python",
   "nbconvert_exporter": "python",
   "pygments_lexer": "ipython3",
   "version": "3.6.5"
  }
 },
 "nbformat": 4,
 "nbformat_minor": 2
}
