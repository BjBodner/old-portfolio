{
 "cells": [
  {
   "cell_type": "code",
   "execution_count": 28,
   "metadata": {},
   "outputs": [],
   "source": [
    "def ToReducedRowEchelonForm( M ):\n",
    "    if not M: return\n",
    "    lead = 0\n",
    "    rowCount = len(M)\n",
    "    columnCount = len(M[0])\n",
    "    for r in range(rowCount):\n",
    "        if lead >= columnCount:\n",
    "            return\n",
    "        i = r\n",
    "        while M[i][lead] == 0:\n",
    "            i += 1\n",
    "            if i == rowCount:\n",
    "                i = r\n",
    "                lead += 1\n",
    "                if columnCount == lead:\n",
    "                    return\n",
    "        M[i],M[r] = M[r],M[i]\n",
    "        lv = M[r][lead]\n",
    "        M[r] = [ mrx / lv for mrx in M[r]]\n",
    "        for i in range(rowCount):\n",
    "            if i != r:\n",
    "                lv = M[i][lead]\n",
    "                M[i] = [ iv - lv*rv for rv,iv in zip(M[r],M[i])]\n",
    "        lead += 1\n",
    "    return M\n",
    " \n",
    "def pmtx(mtx):\n",
    "    print ('\\n'.join(''.join(' %4s' % col for col in row) for row in mtx))\n",
    " \n",
    "def convolve(f, h):\n",
    "    g = [0] * (len(f) + len(h) - 1)\n",
    "    for hindex, hval in enumerate(h):\n",
    "        for findex, fval in enumerate(f):\n",
    "            g[hindex + findex] += fval * hval\n",
    "    return g\n",
    " \n",
    "def deconvolve(g, f):\n",
    "    lenh = len(g) - len(f) + 1\n",
    "    mtx = [[0 for x in range(lenh+1)] for y in g]\n",
    "    for hindex in range(lenh):\n",
    "        for findex, fval in enumerate(f):\n",
    "            gindex = hindex + findex\n",
    "            mtx[gindex][hindex] = fval\n",
    "    for gindex, gval in enumerate(g):        \n",
    "        mtx[gindex][lenh] = gval\n",
    "    ToReducedRowEchelonForm( mtx )\n",
    "    return [mtx[i][lenh] for i in range(lenh)]  # h\n",
    " \n",
    "if __name__ == '__main__':\n",
    "    h = [-8,-9,-3,-1,-6,7]\n",
    "    f = [-3,-6,-1,8,-6,3,-1,-9,-9,3,-2,5,2,-2,-7,-1]\n",
    "    g = [24,75,71,-34,3,22,-45,23,245,25,52,25,-67,-96,96,31,55,36,29,-43,-7]\n",
    "    assert convolve(f,h) == g\n",
    "    assert deconvolve(g, f) == h"
   ]
  },
  {
   "cell_type": "code",
   "execution_count": 210,
   "metadata": {},
   "outputs": [
    {
     "name": "stdout",
     "output_type": "stream",
     "text": [
      "7\n",
      "9\n",
      "11\n",
      "[[ 750. 1400. 1720. 2095. 2693. 2107. 1049.  293.   43.]\n",
      " [ 750. 1700. 2100. 2495. 3215. 2791. 1377.  379.   43.]]\n"
     ]
    }
   ],
   "source": [
    "## Attempt at deconv\n",
    "\n",
    "import numpy as no\n",
    "\n",
    "def Convolve_1d_valid_With_many_Channels(Vector, filters,padding):\n",
    "#     print(\"Don't forget this only convolves the first row of the input vector\")\n",
    "\n",
    "    if padding != 0:\n",
    "        \n",
    "         Vector = np.concatenate([np.zeros((padding)),Vector,np.zeros((padding))])\n",
    "\n",
    "    if np.shape(np.shape(Vector))[0] == 1:\n",
    "        Vector = np.array([Vector])\n",
    "        \n",
    "    if np.shape(np.shape(filters))[0] == 1:\n",
    "        filters = np.array([filters])\n",
    "\n",
    "    print(len(Vector[0,:]))\n",
    "    Number_Of_Channels = len(filters[:,0])\n",
    "    Length_Of_Convolution = len(Vector[0,:]) - len(filters[0,:]) + 1\n",
    "    Convolution = np.zeros((Number_Of_Channels,Length_Of_Convolution))\n",
    "    \n",
    "    for channel in range(0,Number_Of_Channels):\n",
    "        for i in range(0,Length_Of_Convolution):\n",
    "            Convolution[channel,i] = np.dot(Vector[0,i:i+len(filters[0,:])],filters[channel,:])\n",
    "    return Convolution\n",
    "\n",
    "\n",
    "## Input Vector\n",
    "Vector = np.array([1.0,3,4,1,3,5,5])\n",
    "\n",
    "\n",
    "## Creating Filters\n",
    "filters = np.zeros((2,3))\n",
    "filters[0,:] = np.array([[1,3,5]])\n",
    "filters[1,:] = np.array([[1,5,5]])\n",
    "\n",
    "Conv1 = Convolve_1d_valid_With_many_Channels(Vector, filters,padding = 0)\n",
    "Conv2 = Convolve_1d_valid_With_many_Channels(Conv1[0,:], filters[0,:], padding = 2)\n",
    "Conv3 = Convolve_1d_valid_With_many_Channels(Conv2[0,:], filters, padding = 2)\n",
    "\n",
    "\n",
    "\n",
    "print(Conv3)\n"
   ]
  },
  {
   "cell_type": "code",
   "execution_count": 184,
   "metadata": {},
   "outputs": [
    {
     "name": "stdout",
     "output_type": "stream",
     "text": [
      "[1. 3. 4. 1. 3. 5. 5.]\n",
      "3\n",
      "[4. 5. 5.]\n"
     ]
    }
   ],
   "source": [
    "def Max_pooling_1d(Vector,pooling_number):\n",
    "\n",
    "    Pooling_Length = int((len(Vector) -np.mod(len(Vector),pooling_number))/pooling_number)\n",
    "    \n",
    "    extension  = 0\n",
    "    if np.mod(len(Vector),pooling_number) > 0:\n",
    "          extension = 1\n",
    "    \n",
    "    Pooled_Vector = np.zeros(( Pooling_Length  +  extension))\n",
    "    for i in range(0,Pooling_Length) :\n",
    "        Pooled_Vector[i] = np.max(Vector[0 + (i)*pooling_number:pooling_number + (i)*pooling_number])\n",
    "        \n",
    "     ## this just ad all the remaining ones into another slot\n",
    "    if np.mod(len(Vector),pooling_number) > 0:        \n",
    "        Pooled_Vector[i+1] = np.max(Vector[(i+1)*pooling_number:len(Vector)])\n",
    "    return   Pooled_Vector    \n",
    "\n",
    "\n",
    "print(Vector)\n",
    "print(Max_pooling_1d(Vector,pooling_number = 3)    )"
   ]
  },
  {
   "cell_type": "code",
   "execution_count": 193,
   "metadata": {},
   "outputs": [
    {
     "name": "stdout",
     "output_type": "stream",
     "text": [
      "[0.         0.22222222 0.44444444 0.66666667 0.88888889 1.11111111\n",
      " 1.33333333 1.55555556 1.77777778 2.        ]\n"
     ]
    }
   ],
   "source": [
    "## This is gonna be to create a 1d auto_encoder\n",
    "\n",
    "x = np.linspace(0,2,10)\n",
    "\n",
    "\n",
    "\n",
    "\n",
    "## Creating filters for first layer\n",
    "length_filters = np.array([4,4,4])\n",
    "# num_filters = np.array([4,4,4])\n",
    "\n",
    "Input_Vector = x\n",
    "\n",
    "filters1 = np.random.rand(length_filters[0],num_filters[0])\n",
    "filters2 = np.random.rand(length_filters[0],num_filters[0])\n",
    "filters3 = np.random.rand(length_filters[0],num_filters[0])\n",
    "\n"
   ]
  },
  {
   "cell_type": "code",
   "execution_count": 255,
   "metadata": {},
   "outputs": [
    {
     "name": "stdout",
     "output_type": "stream",
     "text": [
      "(2, 13)\n",
      "(5, 10)\n",
      "(6, 6)\n",
      "(10, 1)\n"
     ]
    }
   ],
   "source": [
    "def Convolve_1d_valid_Many_Channels_With_many_Channels(Vectors, filters,padding):\n",
    "#     print(\"Don't forget this only convolves the first row of the input vector\")\n",
    "\n",
    "#     if padding != 0:\n",
    "        \n",
    "#          Vector = np.concatenate([np.zeros((padding)),Vector,np.zeros((padding))])\n",
    "\n",
    "#     if np.shape(np.shape(Vector))[0] == 1:\n",
    "#         Vector = np.array([Vector])\n",
    "        \n",
    "#     if np.shape(np.shape(filters))[0] == 1:\n",
    "#         filters = np.array([filters])\n",
    "\n",
    "#     print(len(Vectors[0,:]))\n",
    "    Number_Of_Channels = len(filters[:,0])\n",
    "    Length_Of_Convolution = len(Vectors[0,:]) - len(filters[0,:]) + 1\n",
    "    Convolution = np.zeros((Number_Of_Channels,Length_Of_Convolution))\n",
    "    \n",
    "    for channel in range(0,Number_Of_Channels):\n",
    "        for i in range(0,Length_Of_Convolution):\n",
    "            Convolution[channel,i] = np.sum(Vectors[0,i:i+len(filters[0,:])]*filters[channel,:])\n",
    "    return Convolution\n",
    "\n",
    "\n",
    "## Input Vector\n",
    "Vectors = np.array([[1.0,3,4,1,3,5,5,5,5,5,5,5,5],[1.0,3,5,5,4,1,3,5,5,5,5,5,5]])\n",
    "\n",
    "\n",
    "## Creating Filters\n",
    "num_filters = np.array([5,6,10])\n",
    "Length_Of_First_Filter = 4\n",
    "\n",
    "\n",
    "# Vectors = Convolve_1d_valid_With_many_Channels(Vector, filters,padding = 0)\n",
    "filters1 = np.random.rand(num_filters[0],Length_Of_First_Filter)\n",
    "filters2 = np.random.rand(num_filters[1],num_filters[0])\n",
    "filters3 = np.random.rand(num_filters[2],num_filters[1])\n",
    "\n",
    "print(Vectors.shape)\n",
    "Conv1 = Convolve_1d_valid_Many_Channels_With_many_Channels(Vectors, filters1,padding = 0)\n",
    "print(Conv1.shape)\n",
    "Conv2 = Convolve_1d_valid_Many_Channels_With_many_Channels(Conv1, filters2,padding = 0)\n",
    "print(Conv2.shape)\n",
    "Conv3 = Convolve_1d_valid_Many_Channels_With_many_Channels(Conv2, filters3,padding = 0)\n",
    "print(Conv3.shape)\n"
   ]
  },
  {
   "cell_type": "code",
   "execution_count": null,
   "metadata": {},
   "outputs": [],
   "source": []
  }
 ],
 "metadata": {
  "kernelspec": {
   "display_name": "Python 3",
   "language": "python",
   "name": "python3"
  },
  "language_info": {
   "codemirror_mode": {
    "name": "ipython",
    "version": 3
   },
   "file_extension": ".py",
   "mimetype": "text/x-python",
   "name": "python",
   "nbconvert_exporter": "python",
   "pygments_lexer": "ipython3",
   "version": "3.6.5"
  }
 },
 "nbformat": 4,
 "nbformat_minor": 2
}
