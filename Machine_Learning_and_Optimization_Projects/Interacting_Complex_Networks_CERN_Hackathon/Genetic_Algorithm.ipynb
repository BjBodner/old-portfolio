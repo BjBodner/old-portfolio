{
 "cells": [
  {
   "cell_type": "code",
   "execution_count": 2,
   "metadata": {},
   "outputs": [],
   "source": [
    "import numpy as np\n",
    "import matplotlib.pyplot as plt\n",
    "\n",
    "\n",
    "def Create_Next_Generation(Best_Two_Individuals,Mutation_Amplitude,Number_Of_Parameters,Number_Of_Individuals_in_Generation):\n",
    "    Mutation_Amplitude = 0.1\n",
    "    Individuals = np.array(np.random.rand(Number_Of_Parameters,Number_Of_Individuals_in_Generation))\n",
    "    Individuals[:,0:2] = Best_Two_Individuals\n",
    "    Mutations = Mutation_Amplitude*np.random.rand(Number_Of_Parameters,Number_Of_Individuals_in_Generation)\n",
    "    # This can be done with a vector implementation \n",
    "    \n",
    "    ## Breading and mutating together\n",
    "    for i in range(2,Number_Of_Individuals_in_Generation):\n",
    "        Breading_Killing_Vector = np.random.rand(Number_Of_Parameters) > 0.5\n",
    "        Mutations_Killing_Vector = np.random.rand(Number_Of_Parameters) > 0.5 \n",
    "        Individuals[:,i] = Breading_Killing_Vector*Best_Two_Individuals[:,0] + (1-Breading_Killing_Vector)*Best_Two_Individuals[:,1] + Mutations_Killing_Vector*Mutations[:,i]\n",
    "\n",
    "    return Individuals\n",
    "\n",
    "\n",
    "\n",
    "def Find_Two_Best_Individuals(Cost_Function,Individuals):\n",
    "    BestCost = np.array(np.zeros(2))\n",
    "    Best_Two_Individuals = np.zeros((Number_Of_Parameters,2))\n",
    "    for i in range(0,Number_Of_Individuals_in_Generation):\n",
    "        if Cost_Function[i] == np.min(Cost_Function):\n",
    "            Best_Two_Individuals[:,0] = Individuals[:,i]\n",
    "            BestCost[0] = np.min(Cost_Function)\n",
    "            Cost_Function[i] = np.max(Cost_Function)\n",
    "            break\n",
    "\n",
    "    for i in range(0,Number_Of_Individuals_in_Generation):\n",
    "        if Cost_Function[i] == np.min(Cost_Function):\n",
    "            Best_Two_Individuals[:,1] = Individuals[:,i]\n",
    "            BestCost[1] = np.min(Cost_Function)\n",
    "            break\n",
    "\n",
    "    return Best_Two_Individuals\n",
    "\n",
    "\n",
    "def Optimize_With_Genetic_Algorithm(x,Y,Cost,Mutation_Amplitude,Number_Of_Parameters,Number_Of_Individuals_in_Generation,Number_Of_Generations):\n",
    "#     plt.figure(1)\n",
    "#     plt.plot(x,Y)\n",
    "\n",
    "    Individuals = np.array(np.random.rand(Number_Of_Parameters,Number_Of_Individuals_in_Generation))\n",
    "\n",
    "    ## Run Genetic algorithm Optimizer\n",
    "    for generation in range(0,Number_Of_Generations):\n",
    "        ## Calculate Cost\n",
    "        Cost_Function1 = Cost.Cost_Function(Y,Individuals)\n",
    "        \n",
    "        # Find Parents\n",
    "        Best_Two_Individuals = Find_Two_Best_Individuals(Cost_Function1,Individuals)\n",
    "        \n",
    "        # Create Next Generations\n",
    "        Individuals =Create_Next_Generation(Best_Two_Individuals,Mutation_Amplitude,Number_Of_Parameters,Number_Of_Individuals_in_Generation)\n",
    "#         plt.plot(x,Best_Two_Individuals[:,0])\n",
    "\n",
    "\n",
    "#     plt.figure(2)\n",
    "#     plt.plot(x,Y)\n",
    "#     plt.plot(x,Best_Two_Individuals[:,0])\n",
    "    \n",
    "    return Best_Two_Individuals[:,0] ## These are the best parameters"
   ]
  },
  {
   "cell_type": "code",
   "execution_count": 4,
   "metadata": {},
   "outputs": [
    {
     "data": {
      "text/plain": [
       "[<matplotlib.lines.Line2D at 0x22654265d30>]"
      ]
     },
     "execution_count": 4,
     "metadata": {},
     "output_type": "execute_result"
    },
    {
     "data": {
      "image/png": "[encoded data removed]",
      "text/plain": [
       "<matplotlib.figure.Figure at 0x226640d80f0>"
      ]
     },
     "metadata": {},
     "output_type": "display_data"
    }
   ],
   "source": [
    "## Using the genetic algorithm\n",
    "\n",
    "import numpy as np\n",
    "import matplotlib.pyplot as plt\n",
    "\n",
    "## Defining Cost Function\n",
    "class Cost_Function:\n",
    "    def Cost_Function(self,Y,Individuals): \n",
    "        \n",
    "        ## This should be a cost function to be minimized\n",
    "        ## This should output the cost / negative fittness - for each of the individuals\n",
    "        Cost_Function1 = np.zeros(Number_Of_Individuals_in_Generation)\n",
    "        for i in range(0,Number_Of_Individuals_in_Generation):\n",
    "            Cost_Function1[i] = np.sum((Y - Individuals[:,i])**2)\n",
    "\n",
    "        return Cost_Function1\n",
    "\n",
    "\n",
    "## Defining the hyperparameters\n",
    "Mutation_Amplitude = 1\n",
    "Number_Of_Parameters = 20 ## these are the parameters /variables which we want to optimize\n",
    "Number_Of_Individuals_in_Generation = 10\n",
    "Number_Of_Generations = 1000\n",
    "\n",
    "\n",
    "## Defining the target (in the case of fitting)\n",
    "x = np.linspace(0,5,Number_Of_Parameters)\n",
    "Y = 2*x\n",
    "\n",
    "## Getting the cost function object\n",
    "Cost = Cost_Function()\n",
    "\n",
    "\n",
    "    \n",
    "Best_Parameters = Optimize_With_Genetic_Algorithm(x, Y, Cost, Mutation_Amplitude, Number_Of_Parameters, Number_Of_Individuals_in_Generation, Number_Of_Generations)\n",
    "\n",
    "plt.plot(x,Y)\n",
    "plt.plot(x,Best_Parameters)"
   ]
  },
  {
   "cell_type": "code",
   "execution_count": 132,
   "metadata": {},
   "outputs": [
    {
     "name": "stdout",
     "output_type": "stream",
     "text": [
      "Hello my name is John\n"
     ]
    }
   ],
   "source": []
  },
  {
   "cell_type": "code",
   "execution_count": 135,
   "metadata": {},
   "outputs": [],
   "source": []
  },
  {
   "cell_type": "code",
   "execution_count": null,
   "metadata": {},
   "outputs": [],
   "source": []
  }
 ],
 "metadata": {
  "kernelspec": {
   "display_name": "Python 3",
   "language": "python",
   "name": "python3"
  },
  "language_info": {
   "codemirror_mode": {
    "name": "ipython",
    "version": 3
   },
   "file_extension": ".py",
   "mimetype": "text/x-python",
   "name": "python",
   "nbconvert_exporter": "python",
   "pygments_lexer": "ipython3",
   "version": "3.6.5"
  }
 },
 "nbformat": 4,
 "nbformat_minor": 2
}
